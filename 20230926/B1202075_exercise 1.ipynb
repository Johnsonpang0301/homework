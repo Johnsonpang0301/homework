{
  "nbformat": 4,
  "nbformat_minor": 0,
  "metadata": {
    "colab": {
      "provenance": []
    },
    "kernelspec": {
      "name": "python3",
      "display_name": "Python 3"
    },
    "language_info": {
      "name": "python"
    }
  },
  "cells": [
    {
      "cell_type": "code",
      "execution_count": null,
      "metadata": {
        "colab": {
          "base_uri": "https://localhost:8080/"
        },
        "id": "MCEF-Jl5e_I5",
        "outputId": "8f0cb023-f8f3-4b56-993b-65270c7c520a"
      },
      "outputs": [
        {
          "output_type": "stream",
          "name": "stdout",
          "text": [
            "長庚大學\n",
            "醫學系\n",
            "龐曉聖\n"
          ]
        }
      ],
      "source": [
        "\n",
        "print('''長庚大學\n",
        "醫學系\n",
        "龐曉聖''')"
      ]
    },
    {
      "cell_type": "code",
      "source": [
        "a=int(input('請輸入一個數字:'))\n",
        "print(a>10)\n",
        "\n"
      ],
      "metadata": {
        "colab": {
          "base_uri": "https://localhost:8080/"
        },
        "id": "GjqdirVIhvZ-",
        "outputId": "a88da79b-3178-4d52-98b3-0342b3225153"
      },
      "execution_count": null,
      "outputs": [
        {
          "output_type": "stream",
          "name": "stdout",
          "text": [
            "請輸入一個數字:5\n",
            "False\n"
          ]
        }
      ]
    },
    {
      "cell_type": "code",
      "source": [
        "a=3\n",
        "b=5\n",
        "print(a**b)"
      ],
      "metadata": {
        "colab": {
          "base_uri": "https://localhost:8080/"
        },
        "id": "hkecG7h4jcym",
        "outputId": "3631e414-3b7a-42f2-c971-64908f14cefe"
      },
      "execution_count": null,
      "outputs": [
        {
          "output_type": "stream",
          "name": "stdout",
          "text": [
            "243\n"
          ]
        }
      ]
    },
    {
      "cell_type": "code",
      "source": [
        "a=3\n",
        "b=5\n",
        "print(a!=b)"
      ],
      "metadata": {
        "colab": {
          "base_uri": "https://localhost:8080/"
        },
        "id": "G41ddraVkjCf",
        "outputId": "a9aafa2c-bb67-4c30-e5a3-0e20952b9439"
      },
      "execution_count": null,
      "outputs": [
        {
          "output_type": "stream",
          "name": "stdout",
          "text": [
            "True\n"
          ]
        }
      ]
    },
    {
      "cell_type": "code",
      "source": [
        "a=3\n",
        "b=5\n",
        "a/=b\n",
        "print(a)"
      ],
      "metadata": {
        "colab": {
          "base_uri": "https://localhost:8080/"
        },
        "id": "Sd9-DDyNlwwW",
        "outputId": "113a6d24-535d-4b45-d46d-bded3d971573"
      },
      "execution_count": null,
      "outputs": [
        {
          "output_type": "stream",
          "name": "stdout",
          "text": [
            "0.6\n"
          ]
        }
      ]
    },
    {
      "cell_type": "code",
      "source": [
        "a=3\n",
        "b=5\n",
        "a=a/b\n",
        "print(a)\n"
      ],
      "metadata": {
        "colab": {
          "base_uri": "https://localhost:8080/"
        },
        "id": "UlnUmYbXmBqu",
        "outputId": "ce52dc01-2e9c-4df3-94db-dcdb11746de8"
      },
      "execution_count": null,
      "outputs": [
        {
          "output_type": "stream",
          "name": "stdout",
          "text": [
            "0.6\n"
          ]
        }
      ]
    }
  ]
}