{
  "nbformat": 4,
  "nbformat_minor": 0,
  "metadata": {
    "colab": {
      "provenance": []
    },
    "kernelspec": {
      "name": "python3",
      "display_name": "Python 3"
    },
    "language_info": {
      "name": "python"
    }
  },
  "cells": [
    {
      "cell_type": "code",
      "source": [
        "height = 9\n",
        "\n",
        "for i in range(height):\n",
        "    print(' ' * (height - i - 1) + '*' * (2 * i + 1))\n",
        "\n",
        "for i in range(5):\n",
        "    print(' ' * (height - 5//2) + '***')"
      ],
      "metadata": {
        "colab": {
          "base_uri": "https://localhost:8080/"
        },
        "id": "o33o4s6q_BOL",
        "outputId": "fb2ec950-63c1-44cf-bb1b-92b6cd158b2f"
      },
      "execution_count": null,
      "outputs": [
        {
          "output_type": "stream",
          "name": "stdout",
          "text": [
            "        *\n",
            "       ***\n",
            "      *****\n",
            "     *******\n",
            "    *********\n",
            "   ***********\n",
            "  *************\n",
            " ***************\n",
            "*****************\n",
            "       ***\n",
            "       ***\n",
            "       ***\n",
            "       ***\n",
            "       ***\n"
          ]
        }
      ]
    },
    {
      "cell_type": "code",
      "execution_count": null,
      "metadata": {
        "colab": {
          "base_uri": "https://localhost:8080/"
        },
        "id": "GNk3dyuq3qhM",
        "outputId": "086b6cf2-3b8d-4aaa-c168-0c3fb3a48569"
      },
      "outputs": [
        {
          "output_type": "stream",
          "name": "stdout",
          "text": [
            "輸入自個數字(不會重複): 12345\n",
            "輸入數字過多，請輸入四個數字(不會重複).\n",
            "輸入自個數字(不會重複): 7894\n",
            "result: 1A1B\n",
            "輸入自個數字(不會重複): 7856\n",
            "result: 1A1B\n",
            "輸入自個數字(不會重複): 9456\n",
            "result: 0A2B\n",
            "輸入自個數字(不會重複): 7456\n",
            "result: 1A2B\n",
            "輸入自個數字(不會重複): 7965\n",
            "result: 2A0B\n",
            "輸入自個數字(不會重複): 7465\n",
            "result: 2A1B\n",
            "輸入自個數字(不會重複): 7654\n",
            "result: 1A2B\n",
            "輸入自個數字(不會重複): 7645\n",
            "result: 3A0B\n",
            "輸入自個數字(不會重複): 7245\n",
            "result: 3A0B\n",
            "輸入自個數字(不會重複): 7145\n",
            "答對了，共猜了10次\n"
          ]
        }
      ],
      "source": [
        "import random\n",
        "\n",
        "answer = ''.join(random.sample('123456789', 4))\n",
        "attempts = 0\n",
        "\n",
        "while True:\n",
        "    user_input = input(\"輸入自個數字(不會重複): \")\n",
        "\n",
        "    if len(user_input) != 4 or not user_input.isdigit():\n",
        "        print(\"輸入數字過多，請輸入四個數字(不會重複).\")\n",
        "        continue\n",
        "\n",
        "    attempts += 1\n",
        "\n",
        "    if user_input == answer:\n",
        "        print(f\"答對了，共猜了{attempts}次\")\n",
        "        break\n",
        "\n",
        "    a_count, b_count = 0, 0\n",
        "\n",
        "    for i in range(4):\n",
        "        if user_input[i] == answer[i]:\n",
        "            a_count += 1\n",
        "        elif user_input[i] in answer:\n",
        "            b_count += 1\n",
        "\n",
        "    print(f\"result: {a_count}A{b_count}B\")\n",
        "\n"
      ]
    }
  ]
}