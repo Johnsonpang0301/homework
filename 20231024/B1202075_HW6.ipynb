{
  "nbformat": 4,
  "nbformat_minor": 0,
  "metadata": {
    "colab": {
      "provenance": []
    },
    "kernelspec": {
      "name": "python3",
      "display_name": "Python 3"
    },
    "language_info": {
      "name": "python"
    }
  },
  "cells": [
    {
      "cell_type": "code",
      "execution_count": null,
      "metadata": {
        "colab": {
          "base_uri": "https://localhost:8080/"
        },
        "id": "Vo665WmWIaNj",
        "outputId": "9ce9b6b9-1943-4053-8525-6816d6188805"
      },
      "outputs": [
        {
          "output_type": "stream",
          "name": "stdout",
          "text": [
            "請輸入的高度:10\n",
            "         *\n",
            "        ***\n",
            "       *****\n",
            "      *******\n",
            "     *********\n",
            "    ***********\n",
            "   *************\n",
            "  ***************\n",
            " *****************\n",
            "*******************\n",
            "        ***\n",
            "        ***\n",
            "        ***\n",
            "        ***\n",
            "        ***\n"
          ]
        }
      ],
      "source": [
        "def draw_christmas_tree(height):\n",
        "    if height < 7:\n",
        "        print(\"聖誕樹高度\")\n",
        "    else:\n",
        "        for i in range(1, height + 1):\n",
        "            spaces = \" \" * (height - i)\n",
        "            stars = \"*\" * (2 * i - 1)\n",
        "            print(spaces + stars)\n",
        "        for i in range(5):\n",
        "            spaces = \" \" * (height - 2)\n",
        "            trunk = \"*\" * 3\n",
        "            print(spaces + trunk)\n",
        "try:\n",
        "    height = int(input(\"請輸入的高度:\"))\n",
        "    draw_christmas_tree(height)\n",
        "except ValueError:\n",
        "    print(\"輸入內容錯誤，必須輸入整數。\")\n"
      ]
    },
    {
      "cell_type": "code",
      "source": [
        "def calculate_bmi(height_cm, weight_kg):\n",
        "    height_m = height_cm / 100\n",
        "    bmi = weight_kg / (height_m ** 2)\n",
        "    return bmi\n",
        "\n",
        "def interpret_bmi(bmi):\n",
        "    if bmi < 18.5:\n",
        "        return \"過輕\"\n",
        "    elif 18.5 <= bmi < 24:\n",
        "        return \"適中\"\n",
        "    elif 24 <= bmi < 27:\n",
        "        return \"過重\"\n",
        "    elif 27 <= bmi < 30:\n",
        "        return \"肥胖\"\n",
        "\n",
        "try:\n",
        "    height_cm = float(input(\"身高（公分）：\"))\n",
        "    weight_kg = float(input(\"體重（公斤）：\"))\n",
        "    bmi = calculate_bmi(height_cm, weight_kg)\n",
        "    result = interpret_bmi(bmi)\n",
        "    print(f\"BMI: {bmi:.2f}\")\n",
        "    print(f\"體位: {result}\")\n",
        "except ValueError:\n",
        "    print(\"輸入內容錯誤\")\n"
      ],
      "metadata": {
        "colab": {
          "base_uri": "https://localhost:8080/"
        },
        "id": "dHubWbqTJZxP",
        "outputId": "d94703eb-b8a0-4400-a1f7-bbe253ae3169"
      },
      "execution_count": null,
      "outputs": [
        {
          "output_type": "stream",
          "name": "stdout",
          "text": [
            "身高（公分）：180\n",
            "體重（公斤）：89\n",
            "BMI: 27.47\n",
            "體位: 肥胖\n"
          ]
        }
      ]
    }
  ]
}