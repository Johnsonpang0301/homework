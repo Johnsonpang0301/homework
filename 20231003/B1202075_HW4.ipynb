{
  "nbformat": 4,
  "nbformat_minor": 0,
  "metadata": {
    "colab": {
      "provenance": []
    },
    "kernelspec": {
      "name": "python3",
      "display_name": "Python 3"
    },
    "language_info": {
      "name": "python"
    }
  },
  "cells": [
    {
      "cell_type": "code",
      "execution_count": 4,
      "metadata": {
        "id": "d3-UpgJeDo_c",
        "colab": {
          "base_uri": "https://localhost:8080/"
        },
        "outputId": "2125e6a2-e583-4f31-9768-8bc2f8e29153"
      },
      "outputs": [
        {
          "output_type": "stream",
          "name": "stdout",
          "text": [
            "請輸入成績:55 54 99 63 87\n",
            "72.33333333333333\n"
          ]
        }
      ],
      "source": [
        "a=str(input('請輸入成績:'))\n",
        "a=a.split(' ')\n",
        "a=list(map(int,a))\n",
        "if a[0]>=a[1]and a[0]>=a[2]and a[0]>=a[3]and a[0]>=a[4]:\n",
        "  del a[0]\n",
        "elif a[1]>=a[0]and a[1]>=a[2]and a[1]>=a[3]and a[1]>=a[4]:\n",
        "  del a[1]\n",
        "elif a[2]>=a[0]and a[2]>=a[1]and a[0]>=a[3]and a[0]>=a[4]:\n",
        "  del a[2]\n",
        "elif a[3]>=a[1]and a[3]>=a[2]and a[3]>=a[0]and a[0]>=a[4]:\n",
        "  del a[3]\n",
        "else:\n",
        "  del a[4]\n",
        "\n",
        "if a[0]<=a[1]and a[0]<=a[2]and a[0]<=a[3]:\n",
        "  del a[0]\n",
        "elif a[1]<=a[0]and a[1]<=a[2]and a[1]<=a[3]:\n",
        "  del a[1]\n",
        "elif a[2]<=a[1]and a[2]<=a[0]and a[2]<=a[3]:\n",
        "  del a[2]\n",
        "else:\n",
        "  del a[3]\n",
        "\n",
        "b=(a[0]+a[1]+a[2])/3\n",
        "print(b)"
      ]
    },
    {
      "cell_type": "code",
      "source": [
        "a=int(input('請輸入一個數字'))\n",
        "b=int(input('請輸入另一個數字'))\n",
        "c=input('請輸入運算符號')\n",
        "if c==str('+'):\n",
        "  c=a+b\n",
        "elif c==str('-'):\n",
        "  c=a-b\n",
        "elif c==str('*'):\n",
        "  c=a*b\n",
        "elif c==str('/'):\n",
        "  c=a/b\n",
        "else:\n",
        "  print('error')\n",
        "print(c)"
      ],
      "metadata": {
        "colab": {
          "base_uri": "https://localhost:8080/"
        },
        "id": "SdQvGf2dlbT2",
        "outputId": "80c148ad-11d2-4030-a500-dded3fd89981"
      },
      "execution_count": 5,
      "outputs": [
        {
          "output_type": "stream",
          "name": "stdout",
          "text": [
            "請輸入一個數字8\n",
            "請輸入另一個數字5\n",
            "請輸入運算符號-\n",
            "3\n"
          ]
        }
      ]
    },
    {
      "cell_type": "code",
      "source": [
        "a=int(input('請輸入年分:'))\n",
        "if a<=1582:\n",
        "  if a%4==0:\n",
        "    print('閏年')\n",
        "  else:\n",
        "    print('平年')\n",
        "else:\n",
        "  if a%4==0and a%100!=0 or a%400==0:\n",
        "    print('閏年')\n",
        "  else:\n",
        "    print('平年')"
      ],
      "metadata": {
        "colab": {
          "base_uri": "https://localhost:8080/"
        },
        "id": "xedx8xrfpI7C",
        "outputId": "2d8208c8-5fca-43af-c333-fb2fda7b1ec5"
      },
      "execution_count": 8,
      "outputs": [
        {
          "output_type": "stream",
          "name": "stdout",
          "text": [
            "請輸入年分:400\n",
            "閏年\n"
          ]
        }
      ]
    }
  ]
}