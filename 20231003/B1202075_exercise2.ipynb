{
  "nbformat": 4,
  "nbformat_minor": 0,
  "metadata": {
    "colab": {
      "provenance": []
    },
    "kernelspec": {
      "name": "python3",
      "display_name": "Python 3"
    },
    "language_info": {
      "name": "python"
    }
  },
  "cells": [
    {
      "cell_type": "code",
      "execution_count": null,
      "metadata": {
        "colab": {
          "base_uri": "https://localhost:8080/"
        },
        "id": "mRFeLkOoc1mm",
        "outputId": "a257f170-e38e-4fcd-d3bb-611ee35d5408"
      },
      "outputs": [
        {
          "output_type": "stream",
          "name": "stdout",
          "text": [
            "['K', 'G', 'H', 'U']\n",
            "A\n"
          ]
        }
      ],
      "source": [
        "a='C,B,A'\n",
        "b=['F','G','H']\n",
        "c=a.split(',')\n",
        "d=c+b\n",
        "d[0]='K'\n",
        "e=d.pop(2)\n",
        "del d[1:3]\n",
        "d.append('U')\n",
        "print(d)\n",
        "print(e)\n"
      ]
    },
    {
      "cell_type": "code",
      "source": [
        "a=float(input('請輸入身高:'))\n",
        "b=float(input('請輸入體重:'))\n",
        "a/=100\n",
        "a=a**2\n",
        "b/=a\n",
        "print('BMI:',b)\n",
        "if b<18.5:\n",
        "  print('體位:過輕')\n",
        "elif 18.5<b<24:\n",
        "  print('體位:適中')\n",
        "elif 24<b<27:\n",
        "  print('體位:過重')\n",
        "else:\n",
        "  print('體位:肥胖')"
      ],
      "metadata": {
        "colab": {
          "base_uri": "https://localhost:8080/"
        },
        "id": "dvN-RIXekKSa",
        "outputId": "b96db50d-1de3-4349-be66-7ffb4f22bb8e"
      },
      "execution_count": null,
      "outputs": [
        {
          "output_type": "stream",
          "name": "stdout",
          "text": [
            "請輸入身高:180\n",
            "請輸入體重:90\n",
            "BMI: 27.777777777777775\n",
            "體位:肥胖\n"
          ]
        }
      ]
    }
  ]
}